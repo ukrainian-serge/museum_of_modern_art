{
 "cells": [
  {
   "cell_type": "markdown",
   "metadata": {},
   "source": [
    "# Cleaning and preparing Museum of Modern Art Data in Python for analysis\n",
    "\n",
    "---\n",
    "\n",
    "---\n",
    "\n",
    "We will be working with a [data set](https://data.world/moma/collection) from data.world. These are data sets of artworks and artists maintained by [Museum of Modern Arts](https://www.moma.org/) in New York.\n",
    "I'll implement techniques to tidy up datasets, and then tinker with and analyze them. I will be using python's built in package `csv` along with some simple functions and loops throughout this project.\n",
    "There are great packages(`numpy`, `pandas`, etc.) for data analysis but in this project I use the basics. "
   ]
  },
  {
   "cell_type": "code",
   "execution_count": 1,
   "metadata": {},
   "outputs": [],
   "source": [
    "import csv\n",
    "import re"
   ]
  },
  {
   "cell_type": "markdown",
   "metadata": {},
   "source": [
    "\n",
    "---\n",
    "##  A quick preview of the header and a few rows of the data in `artworks_3.csv`.\n",
    "\n",
    "Below is a quick glance at header and first couple rows."
   ]
  },
  {
   "cell_type": "code",
   "execution_count": 2,
   "metadata": {
    "scrolled": true
   },
   "outputs": [
    {
     "name": "stdout",
     "output_type": "stream",
     "text": [
      "['title', 'artist', 'constituentid', 'artistbio', 'nationality', 'begindate', 'enddate', 'gender', 'date', 'medium', 'dimensions', 'creditline', 'accessionnumber', 'classification', 'department', 'dateacquired', 'cataloged', 'objectid', 'url', 'thumbnailurl', 'circumference_cm', 'depth_cm', 'diameter_cm', 'height_cm', 'length_cm', 'weight_kg', 'width_cm', 'seat_height_cm', 'duration_sec']\n",
      "\n",
      "\n",
      " ['Ferdinandsbrücke Project, Vienna, Austria, Elevation, preliminary version', 'Otto Wagner', '6210', '(Austrian, 1841–1918)', '(Austrian)', '(1841)', '(1918)', '(Male)', '1896', 'Ink and cut-and-pasted painted pages on paper', '19 1/8 x 66 1/2\" (48.6 x 168.9 cm)', 'Fractional and promised gift of Jo Carole and Ronald S. Lauder', '885.1996', 'Architecture', 'Architecture & Design', '1996-04-09', 'Y', '2', 'http://www.moma.org/collection/works/2', 'http://www.moma.org/media/W1siZiIsIjU5NDA1Il0sWyJwIiwiY29udmVydCIsIi1yZXNpemUgMzAweDMwMFx1MDAzZSJdXQ.jpg?sha=137b8455b1ec6167', '', '', '', '48.6', '', '', '168.9', '', '']\n"
     ]
    }
   ],
   "source": [
    "# simple printing function\n",
    "def print_preview(dataset, start=0, end=1): \n",
    "    '''\n",
    "    header + 2 row print function\n",
    "    '''\n",
    "    for i in dataset[start:end]:\n",
    "        print('\\n\\n', i)\n",
    "\n",
    "with open('/home/serge/.dw/cache/moma/collection/latest/data/artworks_3.csv') as file:\n",
    "    artworks = list(csv.reader(file))\n",
    "    header = artworks[0]\n",
    "    artworks = artworks[1:]\n",
    "print(header)\n",
    "print_preview(artworks)"
   ]
  },
  {
   "cell_type": "markdown",
   "metadata": {},
   "source": [
    "---\n",
    "\n",
    "# Cleaning the dataset:\n",
    "In below cells we'll do a series of cleaning approaches:\n",
    "\n",
    "- Check length of each row and delete outliers to avoid indexing problems.\n",
    "- Because many artworks(rows) have multiple data per index(multiple artists) associated with them, we'll convert them(index=1 through index=8) to lists.\n",
    "- Strip data of extra string characters, and convert(to integers where possible).\n",
    "- Fill empty row indices(`nationality`, `gender`, `date`, etc.) with appropiate data.\n",
    "\n",
    "---\n",
    "To avoid problems in the future, I'll start by finding, inspecting, and removing outliers. Non-outliers(rows to keep) will at minimum contain:\n",
    "\n",
    "- `constituentid`\n",
    "- `objectid`\n",
    "- `ur`"
   ]
  },
  {
   "cell_type": "code",
   "execution_count": 3,
   "metadata": {},
   "outputs": [
    {
     "name": "stdout",
     "output_type": "stream",
     "text": [
      "At row: 81142 ['New York City Transit Authority'] is an outlier\n"
     ]
    }
   ],
   "source": [
    "# below ill compare the length of indices in each row to the header\n",
    "for i, k in enumerate(artworks):\n",
    "    \n",
    "    if len(k) < len(artworks[0]):\n",
    "        print(f\"At row: {i} {k} is an outlier\")\n",
    "        artworks.remove(k) "
   ]
  },
  {
   "cell_type": "markdown",
   "metadata": {},
   "source": [
    "There is only one that is out of place which has nothing but a name, and therefore was removed.\n",
    "\n",
    "---\n",
    "Below I'll make functions and apply them in a series of list comprehensions to:\n",
    "\n",
    "- Remove parenthesis separating artist information.\n",
    "- Convert to integers where possible.\n",
    "- \"listify\" data points.\n",
    "\n",
    "For artist `begindate` and `enddate`:\n",
    "\n",
    "- Year is sufficient. Month and day will be removed.\n",
    "\n",
    "Our index 8, `date`, is the date information on when the artwork was completed by artist(s). As dates are not standardized, I'll make a function below to:\n",
    "\n",
    "- Strip non integer characters and whitespace.\n",
    "- Find average of range dates(ex: 1976-82, c. 99-04, etc)"
   ]
  },
  {
   "cell_type": "code",
   "execution_count": 4,
   "metadata": {},
   "outputs": [],
   "source": [
    "def artist_fix(artist):\n",
    "    artist = artist.strip()\n",
    "    if artist == '':\n",
    "        return 'Unknown Artist'\n",
    "    return artist.strip()\n",
    "\n",
    "def constituentid_fix(num):\n",
    "    if not num:\n",
    "        return 0\n",
    "    elif '.' in num: # a few constinuentid's have periods\n",
    "        return float(num)\n",
    "    return int(num)\n",
    "\n",
    "def bio_fix(bio):\n",
    "    bio = bio.strip()\n",
    "    if bio == '':\n",
    "        return 'Unknown Biography'\n",
    "    return bio\n",
    "\n",
    "def nationality_fix(nat):\n",
    "    nat = nat.strip()\n",
    "    if nat == '':\n",
    "        return 'Unknown Nationality'\n",
    "    return nat\n",
    "\n",
    "def artist_date_fix(date):\n",
    "    date = date.strip()\n",
    "    if not date:\n",
    "        return 0\n",
    "    elif '-' in date:\n",
    "        year, month_day = date.split('-', 1)\n",
    "        return int(year)\n",
    "    return int(date)\n",
    "\n",
    "def gender_fix(gender):\n",
    "    check = ['male', 'female', 'unknown/other gender']\n",
    "    gender = gender.strip()\n",
    "    if not gender:\n",
    "        return 'Unknown/Other Gender'\n",
    "    elif gender.lower() not in check:\n",
    "        return 'Unknown/Other Gender'\n",
    "    return gender\n",
    "\n",
    "def artpiece_date_fix(date):\n",
    "    \"\"\"\n",
    "    Returns a 4 digit year. If empty returns 0  \n",
    "    \"\"\"\n",
    "    pattern = re.compile(r\"(\\d\\d\\d\\d)\")\n",
    "    match = pattern.search(date)\n",
    "    if match:\n",
    "        return int(match.group())\n",
    "    return 0\n",
    "\n",
    "def cleanrows(dataset):\n",
    "    \"\"\"\n",
    "    Returns modified dataset.\n",
    "    Strips and splits data points, turning them into lists\n",
    "    \"\"\"\n",
    "    for i, row in enumerate(dataset): # turn indices to lists\n",
    "        row[1] = [artist_fix(artist) for artist in row[1].split(',')]\n",
    "        row[2] = [constituentid_fix(num) for num in row[2].split(',')]\n",
    "        row[3] = [bio_fix(bio) for bio in row[3][:-1].replace('(','').split(')')]\n",
    "        row[4] = [nationality_fix(nat) for nat in row[4][:-1].replace('(','').split(')')]\n",
    "        row[5] = [artist_date_fix(number) for number in row[5][:-1].replace('(','').strip().split(')')]\n",
    "        row[6] = [artist_date_fix(number) for number in row[6][:-1].replace('(', '').strip().split(')')]\n",
    "        row[7] = [gender_fix(gender) for gender in row[7][:-1].replace('(', '').strip().split(')')]\n",
    "        row[8] = artpiece_date_fix(row[8])\n",
    "\n",
    "    return dataset\n",
    "\n",
    "artworks = cleanrows(artworks)"
   ]
  },
  {
   "cell_type": "markdown",
   "metadata": {},
   "source": [
    "---\n",
    "\n",
    "Observation of sample print-out below shows our functions and list-comps worked fine."
   ]
  },
  {
   "cell_type": "code",
   "execution_count": 5,
   "metadata": {
    "scrolled": true
   },
   "outputs": [
    {
     "name": "stdout",
     "output_type": "stream",
     "text": [
      "['title', 'artist', 'constituentid', 'artistbio', 'nationality', 'begindate', 'enddate', 'gender', 'date', 'medium', 'dimensions', 'creditline', 'accessionnumber', 'classification', 'department', 'dateacquired', 'cataloged', 'objectid', 'url', 'thumbnailurl', 'circumference_cm', 'depth_cm', 'diameter_cm', 'height_cm', 'length_cm', 'weight_kg', 'width_cm', 'seat_height_cm', 'duration_sec']\n",
      "\n",
      "\n",
      " ['Anima 2, performed during Concert No. 1, Fully Guaranteed 12 Fluxus Concerts, Fluxhall, 359 Canal Street, New York, April 11, 1964', ['Takehisa Kosugi'], [3227], ['Japanese, born 1938'], ['Japanese'], [1938], [0], ['Male'], 1964, 'Gelatin silver print', 'sheet: 9 15/16 × 8\" (25.3 × 20.3 cm)', 'The Gilbert and Lila Silverman Fluxus Collection Gift', '3734.2008.C02.x1-x3', 'Photograph', 'Fluxus Collection', '', 'N', '273247', '', '', '', '', '', '25.3', '', '', '20.3', '', '']\n",
      "\n",
      "\n",
      " ['Carrot Chew, performed during Concert No. 1, Fully Guaranteed 12 Fluxus Concerts, Fluxhall, 359 Canal Street, New York, April 11, 1964', ['Peter Moore', 'Philip Corner', 'Benjamin Patterson', 'Alison Knowles', 'Barbara Moore'], [37006, 36944, 4520, 36471, 37289], ['American, 1932–1993', 'American, born 1933', 'American, 1934–2016', 'American, born 1933'], ['American', 'American', 'American', 'American', 'Unknown Nationality'], [1932, 1933, 1934, 1933, 0], [1993, 0, 2016, 0, 0], ['Male', 'Male', 'Male', 'Female', 'Unknown/Other Gender'], 1964, 'Gelatin silver print', 'sheet: 3 9/16 × 8 1/4\" (9 × 21 cm)', 'The Gilbert and Lila Silverman Fluxus Collection Gift', '3734.2008.D01', 'Photograph', 'Fluxus Collection', '', 'N', '273248', '', '', '', '', '', '9.0', '', '', '21.0', '', '']\n"
     ]
    }
   ],
   "source": [
    "print(header)\n",
    "print_preview(artworks,132033, 132035) # sample slice"
   ]
  },
  {
   "cell_type": "markdown",
   "metadata": {},
   "source": [
    "---\n",
    "\n",
    "---\n",
    "\n",
    "# Analyze the Data\n",
    "\n",
    "Next we'll:\n",
    "\n",
    "- Calculate how old the artist was when they created their artwork\n",
    "- Count artist frequency in `artworks`\n",
    "- Analyze and interpret the distribution of artist ages\n",
    "- Create functions which summarize our data\n",
    "- Print summaries in an easy-to-read-way \n",
    "\n",
    "---"
   ]
  },
  {
   "cell_type": "code",
   "execution_count": 6,
   "metadata": {},
   "outputs": [
    {
     "name": "stdout",
     "output_type": "stream",
     "text": [
      "Sample artist ages during work completion: [[55], [43], [27], [36], [27], [32], [32], [32], [32], [32]]\n",
      "\n",
      "Top 20 artists by frequency\n",
      "\n",
      "Eugène Atget : 5050\n",
      "Louise Bourgeois : 3327\n",
      "Ludwig Mies van der Rohe : 2617\n",
      "Unknown Artist : 2199\n",
      "Unknown photographer : 1755\n",
      "Jean Dubuffet : 1437\n",
      "Lee Friedlander : 1335\n",
      "Pablo Picasso : 1323\n",
      "Marc Chagall : 1174\n",
      "Henri Matisse : 1069\n",
      "George Maciunas : 1016\n",
      "Pierre Bonnard : 909\n",
      "Lilly Reich : 841\n",
      "Frank Lloyd Wright : 827\n",
      "Various Artists : 766\n",
      "August Sander : 750\n",
      "Harry Shunk : 653\n",
      "János Kender : 653\n",
      "Georges Rouault : 633\n",
      "Émile Bernard : 631\n"
     ]
    }
   ],
   "source": [
    "def age_at_artwork_finish(dataset):\n",
    "    \"\"\"\n",
    "    Returns list of calculated approximate ages during artwork finish.\n",
    "    Calculated by DOB subtracted from artwork completed date\n",
    "    \"\"\"\n",
    "    final_ages = []\n",
    "\n",
    "    for row in dataset:\n",
    "        art_done_date = row[8]\n",
    "        dob_list = row[5]\n",
    "        pre_age = []\n",
    "\n",
    "        for dob in dob_list:\n",
    "            if (not dob) or (not art_done_date):\n",
    "                pre_age.append(0)\n",
    "            else:\n",
    "                pre_age.append(art_done_date - dob)\n",
    "        final_ages.append(pre_age)\n",
    "    return final_ages\n",
    "\n",
    "def artist_freq(dataset):\n",
    "    \"\"\"\n",
    "    Return dict of artist name frequencies in the whole dataset  \n",
    "    \"\"\"\n",
    "    artist_freq_counter = dict()\n",
    "\n",
    "    for row in dataset:\n",
    "        artist_name = row[1]\n",
    "\n",
    "        for artist in artist_name:\n",
    "\n",
    "            if artist not in artist_freq_counter:\n",
    "                artist_freq_counter[artist] = 1\n",
    "            else:\n",
    "                artist_freq_counter[artist] += 1\n",
    "    return artist_freq_counter\n",
    "\n",
    "def top_10_artist_freq(dict):\n",
    "    for k, v in sorted(dict.items(), key=lambda x: x[1], reverse=True)[:20]:\n",
    "        print(f\"{k} : {v}\")\n",
    "        \n",
    "print(f\"Sample artist ages during work completion: {age_at_artwork_finish(artworks[:10])}\\n\") # sample slice\n",
    "print(\"Top 20 artists by frequency\\n\" )\n",
    "top_10_artist_freq(artist_freq(artworks))"
   ]
  },
  {
   "cell_type": "markdown",
   "metadata": {},
   "source": [
    "---\n",
    "\n",
    "Below we do a simple gender count:"
   ]
  },
  {
   "cell_type": "code",
   "execution_count": 7,
   "metadata": {},
   "outputs": [
    {
     "name": "stdout",
     "output_type": "stream",
     "text": [
      "Moma frequencies by gender: \n",
      "\n",
      "    115,856 Male artists.\n",
      "    19,881 Female artists.\n",
      "    11,037 Unknown/other gender artists.\n"
     ]
    }
   ],
   "source": [
    "def gender_freq(dataset):\n",
    "    \"\"\"Returns dictionary with key=Genders, value=Counts\n",
    "    \"\"\"\n",
    "    freq = dict()\n",
    "    for row in dataset:\n",
    "        gender = row[7]\n",
    "        for i in gender:\n",
    "            i = i.lower()\n",
    "            if i not in freq:\n",
    "                freq[i] = 1\n",
    "            else:\n",
    "                freq[i] += 1\n",
    "    return freq\n",
    "\n",
    "gender_counts = gender_freq(artworks)\n",
    "\n",
    "print(\"Moma frequencies by gender: \\n\")\n",
    "for k, v in gender_counts.items():\n",
    "    print(f\"    {v:,} {k.capitalize()} artists.\")"
   ]
  },
  {
   "cell_type": "code",
   "execution_count": null,
   "metadata": {},
   "outputs": [],
   "source": []
  }
 ],
 "metadata": {
  "kernelspec": {
   "display_name": "Python 3",
   "language": "python",
   "name": "python3"
  },
  "language_info": {
   "codemirror_mode": {
    "name": "ipython",
    "version": 3
   },
   "file_extension": ".py",
   "mimetype": "text/x-python",
   "name": "python",
   "nbconvert_exporter": "python",
   "pygments_lexer": "ipython3",
   "version": "3.7.4"
  }
 },
 "nbformat": 4,
 "nbformat_minor": 2
}
